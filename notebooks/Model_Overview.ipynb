{
 "cells": [
  {
   "cell_type": "markdown",
   "metadata": {},
   "source": [
    "# Structural Equation Models of Collective Identity\n",
    "## Date: 27/01/2017\n",
    "\n",
    "## Relevant theories to model:\n",
    "1. Origins of Collective Identity:\n",
    "    1. Similarity (proximity & homophily)\n",
    "    2. Working for a common Goal\n",
    "    \n",
    "2. Effects of CI on Social Influence:\n",
    "    1. Desire for approval (normative factors)\n",
    "    2. Trust and Credibility (cognitive factors)\n",
    "    3. Dissonance Reduction (cognitive factors)\n",
    "    4. Out-group Differentiation (affective factors)\n",
    "    \n",
    "3. Effects of CI on Individual Behavior:\n",
    "    1. Subordination of self to group interest\n",
    "    2. Positive emotional arousal (in-group attraction)\n",
    "    3. Negative emotional arousal (out-group hatred, anger)\n",
    "    \n",
    "**These theories, in general appear as latent variables (multiple ways to describe; measurements unknown). The structural equation model we consider takes the following form:**"
   ]
  },
  {
   "cell_type": "markdown",
   "metadata": {},
   "source": [
    "![title](img/structEquationModel.png)"
   ]
  },
  {
   "cell_type": "markdown",
   "metadata": {},
   "source": [
    "**Transfer Criterion:** Applicability to \"other\" problems involves the establishment (i.e., factor analysis) of relations between experimental measurements and the latent factors in the pathway to/from collective identity."
   ]
  },
  {
   "cell_type": "markdown",
   "metadata": {},
   "source": [
    "**References/Data for Latent Interactions:**\n",
    "\n",
    "1. L1: Similarity - Proximity Relations -> Collective Identity\n",
    "    1. Theory:\n",
    "        * [Prior Bonds; Solidaristic Behavior - > likely to contribute](https://deepblue.lib.umich.edu/bitstream/handle/2027.42/50928/153.pdf?sequence=1)\n",
    "        \n",
    "        * [Prior Ties, Social Norms, pre-existing solidarities, etc.](http://)\n",
    "        * [Levels of Collective Identity in terms of Similarity](http://psycnet.apa.org/journals/psp/71/1/83.pdf&uid=1996-01782-006)\n",
    "        \n",
    "    2. Data Sources:\n",
    "    \n",
    "2. L2: Similarity - Homophily Relations -> Collective Identity\n",
    "    1. Theory:\n",
    "    \n",
    "        * [Online Hyperlinks; Online Collective Identity](http://www.sciencedirect.com/science/article/pii/S0378873311000153)\n",
    "        \n",
    "        * [Critical Mass for Collective Action on Networks](http://journals.sagepub.com/doi/abs/10.1177/1043463112473734)\n",
    "        \n",
    "    2. Data Sources / Experimental Studies:\n",
    "    \n",
    "        * [Homophily in the Adoption of Health Behavior](http://science.sciencemag.org/content/334/6060/1269/tab-figures-data)\n",
    "\n",
    "3. L3: Working for a Common Goal -> Collective Identity\n",
    "    1. Theory:\n",
    "    \n",
    "        * [Shared Interests Need Selective Rewards; Olson, 1965](https://books.google.com/books?hl=en&lr=&id=jv8wTarzmsQC&oi=fnd&pg=PR9&dq=The+Logic+of+Collective+Action&ots=m9oKrXSqX-&sig=ol4CCa8EBGIeucwvZRxY5jkD9mI#v=onepage&q=The%20Logic%20of%20Collective%20Action&f=false)\n",
    "        \n",
    "        * [Rational Perspective: Benefits for those whos share collective identity [Friedman & McAdam]](https://books.google.com/books?hl=en&lr=&id=2kxcGwv2_u4C&oi=fnd&pg=PA156&ots=xXsQCqpaYJ&sig=Inj5DsD-Gi4vGtXirTmgHW0LGrs#v=onepage&q&f=false)\n",
    "        \n",
    "        * [Using Discourse to Establish an Intergroup Collective Identity](http://www.jstor.org.ezproxy.lib.vt.edu/stable/pdf/20159095.pdf)\n",
    "        \n",
    "        * [Emergent Rationality](http://journals.sagepub.com/doi/pdf/10.1177/104346397009004003)\n",
    "        \n",
    "    2. Data Sources:\n",
    "    \n",
    "4. L4: Collective Identity -> Desire for Approval\n",
    "    1. Theory:\n",
    "        * [Social Approval Alone is not enough to reduce \"free-riding\"](http://www.sciencedirect.com/science/article/pii/S0167268199000451)\n",
    "    2. Data Sources:\n",
    "    \n",
    "5. L5: Collective Identity -> Dissonance Reduction\n",
    "    1. Theory:\n",
    "        * [Ingroup Strength from Dissonance Reduction](http://journals.sagepub.com/doi/abs/10.1177/0146167208329216)\n",
    "        * [social support on dissonance](http://psycnet.apa.org/journals/gdn/7/3/214.pdf&uid=2003-07815-003)\n",
    "        * [Individual Identity Affected when Group Identity Jeopardised](http://journals.sagepub.com/doi/abs/10.1177/0959354302121005)\n",
    "    2. Data Sources:\n",
    "        * [Ingroup Strength from Dissonance Reduction](http://journals.sagepub.com/doi/abs/10.1177/0146167208329216)\n",
    "    \n",
    "6. L6: Collective Identity -> Trust and Credibility\n",
    "    1. Theory:\n",
    "        * [Cooperation & Trust in Prisonner's Dilemma Game](https://papers.ssrn.com/sol3/papers2.cfm?abstract_id=956080)\n",
    "        * [Reciprocity Builds Trust and Social Identity](http://onlinelibrary.wiley.com/doi/10.1002/ejsp.256/full)\n",
    "        * [Group processes across Cultures; trust based on categorical v. interpersonal membership](http://journals.sagepub.com/doi/abs/10.1177/0146167204271305)\n",
    "        * [Trust Emerges Locally & Then Spreads to Outsiders Through Neighbor Interactions (model)](http://www.jstor.org/stable/2657332?seq=1#page_scan_tab_contents)\n",
    "        \n",
    "    2. Data Sources:\n",
    "    \n",
    "7. L7: Collective Identity -> Out-group Differentiation\n",
    "    1. Theory:\n",
    "        * [Individuals in a group anonymous to outsiders predisposes them to act in terms of social identity; but limits the power of the out-group](http://onlinelibrary.wiley.com/doi/10.1111/j.2044-8309.1994.tb01015.x/full)\n",
    "        * [Out-group cues in determining social identity](http://psycnet.apa.org/journals/psp/47/2/342.pdf&uid=1985-01243-001)\n",
    "        * [Resource Allocation](http://psycnet.apa.org/journals/psp/46/5/1044.pdf&uid=1984-25827-001)\n",
    "    2. Data Sources:\n",
    "        * [In-group/Out-group differentiation in work and giving.](http://www.sciencedirect.com/science/article/pii/S0167268109001310)\n",
    "    \n",
    "8. L8: Collective Identity -> Subordination of Self to Group Interest\n",
    "    1. Theory:\n",
    "        * [Different Definition of Identity to Include Social](http://journals.sagepub.com/doi/abs/10.1177/0146167291175001)\n",
    "        * [Groups Reward Individual Sacrifice](http://journals.sagepub.com/doi/abs/10.1177/000312240907400102)\n",
    "        * [Motives for Individual Participation in Intergroup Conflict](http://journals.sagepub.com/doi/abs/10.1111/j.1467-9280.2008.02100.x)\n",
    "    2. Data Sources:\n",
    "        * [Viral Epidemic Social Distancing](http://journals.plos.org/ploscompbiol/article?id=10.1371/journal.pcbi.1000793)\n",
    "    \n",
    "9. L9: Collective Identity -> Positive Emotional Arousal\n",
    "    1. Theory:\n",
    "        * [people identify more strongly with collective when collective identity was made more salient than when personal identity is salient](http://dlc.dlib.indiana.edu/dlc/bitstream/handle/10535/3000/Back_to_Journal_Cover_Page.pdf?sequence=1&isAllowed=y)\n",
    "        \n",
    "    2. Data Sources:\n",
    "    \n",
    "10. L10: Collective Identity -> Negative Emotional Arousal\n",
    "    1. Theory:\n",
    "        * [Individual Identity Threatened Effects In-Group / Out-Group Extemity](http://journals.sagepub.com/doi/abs/10.1177/0146167293194003)\n",
    "        \n",
    "    2. Data Sources:"
   ]
  },
  {
   "cell_type": "code",
   "execution_count": 3,
   "metadata": {
    "collapsed": false
   },
   "outputs": [
    {
     "name": "stderr",
     "output_type": "stream",
     "text": [
      "/usr/local/lib/python2.7/site-packages/matplotlib/font_manager.py:273: UserWarning: Matplotlib is building the font cache using fc-list. This may take a moment.\n",
      "  warnings.warn('Matplotlib is building the font cache using fc-list. This may take a moment.')\n"
     ]
    }
   ],
   "source": [
    "import numpy\n",
    "import scipy\n",
    "from matplotlib import pyplot as plt\n",
    "\n",
    "%matplotlib inline"
   ]
  },
  {
   "cell_type": "markdown",
   "metadata": {
    "collapsed": true
   },
   "source": [
    "## Public Goods Game\n",
    "[Group size and the voluntary provision of public goods](http://www.dklevine.com/archive/refs411.pdf)\n",
    "\n",
    "In the public goods game , we assume there are N individuals involved in the game. Each individual i has a personal (individual) account where $Z_i$ tokens was endowed. There is a group account to collect tokens from each individual.\n",
    "For a given round, let $m_i$ denotes individual i's allocation of tokens to the group account and $\\sum m_j$ representas the sum of tokens placed in the group account by all other individuals. Each individual earned $e_i = \\frac{G(m_i + \\sum m_j)}{N}$ tokens from the group account.\n",
    "\n",
    "Each token placed in the personal account earned $p_i$ tokens with certainty. A representative individual's utility function in any one period can be written as $U_i[p_i(Z_i-m_i) + e_i]$.\n",
    "\n",
    "The Marginal Per Capita Return(MPCR) from the group is defined as the ratio of benefits to costs for moving a single token from the individual to the group account. In this experiment, $p_i$ and the function $G()$ were chosen so that the Pareto optimum was for each individual to place all tokens in the group account (ie.e to set $m_i = Z_i$)."
   ]
  },
  {
   "cell_type": "markdown",
   "metadata": {},
   "source": [
    "## Brian's edits\n",
    "**Yue, in this paper, they do not look at sociodemographic variables; their particpants were microeconomics students at Arizona and Indiana universities... we can't include the following variables here. See table 1 for IVars + that they did multiple rounds.**\n",
    "\n",
    "IVars = {\n",
    "    \"Procedure\": ['MS-XC', 'SS-$'],\n",
    "    \"GroupSize\": [4,10,40,100],\n",
    "    \"MPCR\": [.03, .30, .75],\n",
    "    \"Round\": range(10),\n",
    "}\n",
    "\n",
    "DVars = {\"percentContribution\": range(100)}\n",
    "\n",
    "**Assume a function like:**\n",
    "\n",
    "$$perc\\_contribution = f(GroupSize,MPCR,Round) + \\mathcal{N}(\\sigma,\\nu)$$\n",
    "\n",
    "I would solve this as follows:\n",
    "\n",
    "1. Look at the charts in figures 1-5. These are all organized by the independent variables listed in Table 1. Ignore the procedure IV or only look at the XC procedures.\n",
    "\n",
    "2. Generate data from these charts by creating data samples by sampling from a normal distribution with a mean at each independent variable and a variance according the the 90% confidence bands.\n",
    "\n",
    "3. Using a linear, some other regression, or a combination of techniques; find a best-fit for f - be able to interpolate and extrapolate between and outside the domain of evaluation for the IVs.\n",
    "\n",
    "4. Calculate the error for each attempt you make.\n",
    "\n",
    "5. The model will not be perfect; just try to fit the data points as best as possible."
   ]
  },
  {
   "cell_type": "markdown",
   "metadata": {},
   "source": [
    "## Updates\n",
    "\n",
    " Given a set of data samples (X, y) where X is a matrix $N*P$, y is a response vection $N*1$. Each row in matrix X is one data example. Its corresponded response is the value in y. It estimates the output y by a linear mapping of X: $p = XB$ where b  is a $P*1$ vector that to be optimized.\n",
    "The objective function for Lasso is described as follows in the so-called Lagrangian form:\n",
    "> $\\frac{1}{2N}||y - Xw||^2_2 + \\alpha ||w||$\n",
    "\n",
    "Data samples given in this paper can be organized as follows:\n",
    "\n",
    "| Groupsize | MPCR | round | GroupContribution($\\hat{y}$)| confidence interval $\\sigma$ |\n",
    "|:---:|:---:|:---:|:---:|:---:|\n",
    "| 4 | 0.3 | 1 | 36| - |\n",
    "| 4 | 0.3 | 2 | 34| - |\n",
    "| 4 | 0.3 | 3 | 28| - |\n",
    "| ... | ... | ... | ...| ... |\n",
    "\n",
    "\n",
    "In this case, p=3 (we have three features for x), $\\alpha=0.5$. In total there are 80 data samples in this paper with varying groupsize, MPCR, and round. The algorithm used to fit the model is coordinate descent. \n",
    "After fitting the dataset, we get an estimate function as follows:\n",
    "$$\\hat{y} = w_1 * x_1 + w_2 * x_2 + w_3 * x_3 + b$$\n",
    "where b is the intercept and $w_1, w_2, w_3$ are coefficients.\n",
    "\n",
    "Using the [Lasso package from Scikit learn](http://scikit-learn.org/stable/modules/generated/sklearn.linear_model.Lasso.html), the estimated coefficients and intercept are:\n",
    "\n",
    "> * $w_1 = 0.025$ \n",
    "> * $w_2 = 9.1239$ \n",
    "> * $w_3 = -1.632$\n",
    "> * $b = 41.81$\n",
    "\n",
    "** Next steps:** Sample the group distribution with ($y$) subject to the $\\mathcal{N}(\\hat{y},\\sigma)$. Run over multiple trials to produce"
   ]
  },
  {
   "cell_type": "markdown",
   "metadata": {},
   "source": [
    "### Method\n",
    "\n",
    "We sample new group distributions with y as mean and sigma as the standard deviation (see function resample). \n",
    "After sampling group distribution $K=10000$ times, we fit Lasso models to each set of the sampled data.\n",
    "The following plots show the distribution of $w_1, w_2, w_3, b$ from the Lasso models on the new sampled group distributions.\n",
    "\n",
    "\n",
    "### Input Variables\n",
    " - data from paper [Group size and the voluntary provision of public goods]\n",
    " - each example (line) has groupsize, MPCR, rndcnt, groupContribution, Experiments, diff \n",
    " \n",
    "### Output\n",
    "\n",
    "A dat file for each sample contains:\n",
    "  - groupsize\n",
    "  - MPCR\n",
    "  - round\n",
    "  - groupContribution"
   ]
  },
  {
   "cell_type": "code",
   "execution_count": 26,
   "metadata": {
    "collapsed": false
   },
   "outputs": [
    {
     "data": {
      "image/png": "[encoded data removed]",
      "text/plain": [
       "<matplotlib.figure.Figure at 0x110367790>"
      ]
     },
     "metadata": {},
     "output_type": "display_data"
    }
   ],
   "source": [
    "n, bins, patches = plt.hist(bs, 50, normed=1, facecolor='green', alpha=0.75)  \n",
    "plt.xlabel('b')\n",
    "plt.ylabel('Probability')\n",
    "plt.title(r'$\\mathrm{Histogram\\ of\\ b}$')\n",
    "plt.grid(True)\n",
    "plt.show()"
   ]
  },
  {
   "cell_type": "code",
   "execution_count": 6,
   "metadata": {
    "collapsed": false
   },
   "outputs": [
    {
     "data": {
      "image/png": "[encoded data removed]",
      "text/plain": [
       "<matplotlib.figure.Figure at 0x10efede90>"
      ]
     },
     "metadata": {},
     "output_type": "display_data"
    },
    {
     "data": {
      "image/png": "[encoded data removed]",
      "text/plain": [
       "<matplotlib.figure.Figure at 0x10ef13310>"
      ]
     },
     "metadata": {},
     "output_type": "display_data"
    },
    {
     "data": {
      "image/png": "[encoded data removed]",
      "text/plain": [
       "<matplotlib.figure.Figure at 0x10da31890>"
      ]
     },
     "metadata": {},
     "output_type": "display_data"
    },
    {
     "data": {
      "text/plain": [
       "<matplotlib.figure.Figure at 0x10e4c68d0>"
      ]
     },
     "metadata": {},
     "output_type": "display_data"
    }
   ],
   "source": [
    "predefined_colors = ['red', 'blue', 'yellow']\n",
    "\n",
    "for j in xrange(len(ws[0])):\n",
    "    wj = [ws[i][j] for i in range(len(ws))]\n",
    "    n, bins, patches = plt.hist(wj, 50, normed=1, facecolor=predefined_colors[j], alpha=0.75)  \n",
    "    plt.xlabel('w%d' % (j+1))\n",
    "    plt.ylabel('Probability')\n",
    "    plt.grid(True)\n",
    "    plt.show()\n",
    "    fig = plt.figure()\n",
    "    fig.savefig(\"w%d_hist.png\" % (j+1), dpi=fig.dpi)"
   ]
  },
  {
   "cell_type": "code",
   "execution_count": 1,
   "metadata": {
    "collapsed": false
   },
   "outputs": [
    {
     "name": "stdout",
     "output_type": "stream",
     "text": [
      "Lasso(alpha=0.5, copy_X=True, fit_intercept=True, max_iter=1000,\n",
      "   normalize=False, positive=False, precompute=False, random_state=None,\n",
      "   selection='cyclic', tol=0.0001, warm_start=False)\n"
     ]
    },
    {
     "name": "stderr",
     "output_type": "stream",
     "text": [
      "/usr/local/lib/python2.7/site-packages/matplotlib/font_manager.py:273: UserWarning: Matplotlib is building the font cache using fc-list. This may take a moment.\n",
      "  warnings.warn('Matplotlib is building the font cache using fc-list. This may take a moment.')\n"
     ]
    }
   ],
   "source": [
    "import sys\n",
    "import os\n",
    "import json\n",
    "import numpy as np\n",
    "from numpy.random import normal\n",
    "from sklearn import linear_model\n",
    "import matplotlib.mlab as mlab\n",
    "import matplotlib.pyplot as plt\n",
    "%matplotlib inline  \n",
    "\n",
    "\n",
    "def resample(observed_Y, Z):\n",
    "    # Draw random samples from a normal (Gaussian) distribution.\n",
    "    newY = []\n",
    "    for idy, y in enumerate(observed_Y):\n",
    "        mu = y\n",
    "        sigma = Z[idy]\n",
    "        ny = normal(loc=mu, scale=sigma)\n",
    "        newY.append(ny)\n",
    "    return newY\n",
    "\n",
    "# Initialize a Lasso model with alpha=0.5\n",
    "clf = linear_model.Lasso(alpha=0.5)\n",
    "print clf\n",
    "datafile= '../data/data_paper_groupsize.dat'\n",
    "X = [] # array of features\n",
    "Y = [] # array of observed group contribution\n",
    "Z = [] # array of standard deviation \n",
    "K = 10000 # iteration of sampling\n",
    "\n",
    "# Read data from file\n",
    "# Data source: http://www.dklevine.com/archive/refs411.pdf\n",
    "with open(datafile, 'rb') as reader:\n",
    "    reader.readline()\n",
    "    for l in reader.readlines():\n",
    "        groupsize, MPCR, rndcnt, groupContribution, Experiments, diff = l.strip().split('\\t')\n",
    "        X.append([float(groupsize), float(MPCR), float(rndcnt)])\n",
    "        Y.append(float(groupContribution))\n",
    "        if float(diff) == 0.0:\n",
    "            stdev = 1.0\n",
    "        else:\n",
    "            # Obtaining standard deviations from standard errors and confidence intervals for group means\n",
    "            # http://handbook.cochrane.org/chapter_7/7_7_3_2_obtaining_standard_deviations_from_standard_errors_and.htm\n",
    "            stdev = np.sqrt(float(Experiments)) * float(diff) / 3.29\n",
    "        Z.append(stdev)\n",
    "ws = []\n",
    "bs = []\n",
    "for i in xrange(K):\n",
    "    newY = resample(Y, Z)\n",
    "    clf.fit(np.array(X), np.array(newY))\n",
    "    ws.append(clf.coef_)\n",
    "    bs.append(clf.intercept_)\n",
    "    # Save synthetic data into files\n",
    "    with open('../data/public_goods/synthetic_data_sample_%d.dat' % i, 'wb') as reader:\n",
    "        reader.write('groupsize\\tMPCR\\tround\\tgroupContribution\\n')\n",
    "        for didx, x in enumerate(X):\n",
    "            oneline = '\\t'.join([str(xi) for xi in x])\n",
    "            reader.write(oneline + '\\t' + str(newY[didx]) + '\\n')"
   ]
  },
  {
   "cell_type": "markdown",
   "metadata": {
    "collapsed": true
   },
   "source": [
    "## Ultimatum Game\n",
    "[Explaining fairness in complex environments](http://www.kevinzollman.com/uploads/5/0/3/6/50361245/zollman_-_explaining_fairness_in_a_complex_environment.pdf) (Kevin J.S. Zollman 2008)\n",
    "\n",
    "\n",
    "In the ultimatum game, one player (or group) choose a number between zero and the total good, while the other player (or group) must choose which demands to accept or reject. This ultimatum game has several Nash equilibria."
   ]
  },
  {
   "cell_type": "markdown",
   "metadata": {},
   "source": [
    "Suppose we restrict the game to three demands (1/3, 1/2, 2/3) and three ranges of acceptability ([1/3, 1], [1/2, 1], [2/3, 1]),\n",
    "this ultimatum game is transformed into a simultaneous-move game. Assuming player A proposes and player B decides to accept or reject. The states based on the demands of A and acceptance state of B are presented in the following table where (X, Y) represents the money received for player B and player A.\n",
    "\n",
    "\n",
    "| Acceptability Range of B | A Demands 1/3 | A Demands 1/2 | A Demands 2/3 |\n",
    "|:---:|:---:|:---:|:---:|\n",
    "| [1/3, 1] | (2/3, 1/3) | (1/2, 1/2) | (1/3, 2/3) |\n",
    "| [1/2, 1] | (2/3, 1/3) | (1/2, 1/2) | (0, 0)| \n",
    "| [2/3, 1] | (2/3, 1/3) | (0, 0) | (0, 0) | "
   ]
  },
  {
   "cell_type": "markdown",
   "metadata": {},
   "source": [
    "In this case, the [1/3, 1] weakly dominates all other strategies since it does equally well as the others against some opponents' strategies, but does better than both against Demand 2/3.\n"
   ]
  },
  {
   "cell_type": "markdown",
   "metadata": {},
   "source": [
    "The ordered pair $<a, b>$ denotes a strategy where $a$ is the proposal and $b$ is the minimum acceptable.\n",
    "Assuming the population is N = 10, at each round, we sample $50\\%$ of the population to be proposer and $50\\%$ of them to be acceptor.\n",
    "The strategy is uniformly distributed among the players. \n",
    "\n",
    "\n",
    "For instance, $33\\%$ of the proposers will demand $1/3$, $33\\%$ demand $1/2$, and $33\\%$ demand $2/3$. Similarly, $33\\%$ of the acceptors will have minimum acceptability of $1/3$,  $33\\%$ accept $1/2$,  $33\\%$ accept $2/3$.\n",
    "\n",
    "\n"
   ]
  },
  {
   "cell_type": "markdown",
   "metadata": {
    "collapsed": true
   },
   "source": [
    "### Modeling Strategy Evolution\n",
    "\n",
    "After each round, we will have the distribution of goods in this population. According to the distribution of goods for different strategies, we assign strategies to next population.\n",
    "Assuming the three strategies follow a multinomial distribution. It is a generalization of the binomial distribution and it models the probability of counts for rolling a $k$-sided die $n$ times. Here $k$ is the number of strategies. $n$ is the number of players (proposer or acceptor).\n",
    "\n",
    "In the beginning, we draw a sample of strategies based on the number of players from a multinomial distribution with equal probabilities:\n",
    "\n",
    "  $$S(N) \\sim \\mathcal{M}(1/3, 1/3, 1/3)$$\n",
    "\n",
    "In the result of this sample, it gave us the number of players assigned of each strategy. For instance, if $N=20$, $S(N) = [10, 4, 6]$ means 10 players out of 20 were assigned strategy 1, 4 of them assigned for strategy 2, and 6 of them assigned strategy 3.\n",
    "\n",
    "\n",
    "After one round, according to the rewarded goods for each strategy, we sample a new set of strategies for the players from the multinomial distribution:\n",
    "\n",
    " $$S(N) \\sim \\mathcal{M}(a, b, c)$$\n",
    " \n",
    " where a, b, and c are the normalized amounts of rewarded goods for strategy 1, 2, and 3. \n",
    " \n",
    " \n",
    " ### Input Variables\n",
    " - G = 3.0 # goods for each pair of players in one ultimatum game\n",
    " - N = 100 # number of population\n",
    " - R = 10 # number of rounds\n",
    " - demands_strategy = [1./3., 1./2., 2./3.]\n",
    " - min_accept_strategy = [1./3., 1./2., 2./3.]\n",
    "\n",
    "### Output\n",
    "\n",
    "A json file contains:\n",
    "  - round id (for each round, we have the following fields)\n",
    "  - proposers_ids: array of all proposer user ids\n",
    "  - acceptors_ids: array of all acceptor user ids\n",
    "  - propose_strategy: (key, value) pairs where key is the proposer id and value is the demanding money.\n",
    "  - accept_strategy: (key, value) pairs where key is the acceptor id and value is the min acceptable money.\n",
    "\n",
    "### Observations\n",
    " \n",
    " With 100 players (50 proposers and 50 acceptors), after 10 rounds of evolution, we observe that demanding $1/2$  gains more goods for a proposer and thus it is getting more widely adopted; minimum acceptability of $1/3$ gains more goods for a acceptor.  "
   ]
  },
  {
   "cell_type": "code",
   "execution_count": 6,
   "metadata": {
    "collapsed": false
   },
   "outputs": [
    {
     "name": "stdout",
     "output_type": "stream",
     "text": [
      "[25 11 14]\n",
      "[21 14 15]\n"
     ]
    },
    {
     "data": {
      "image/png": "[encoded data removed]",
      "text/plain": [
       "<matplotlib.figure.Figure at 0x106b80f50>"
      ]
     },
     "metadata": {},
     "output_type": "display_data"
    },
    {
     "name": "stdout",
     "output_type": "stream",
     "text": [
      "[24 10 16]\n",
      "[23 21  6]\n"
     ]
    },
    {
     "data": {
      "image/png": "[encoded data removed]",
      "text/plain": [
       "<matplotlib.figure.Figure at 0x107619150>"
      ]
     },
     "metadata": {},
     "output_type": "display_data"
    },
    {
     "name": "stdout",
     "output_type": "stream",
     "text": [
      "[19 10 21]\n",
      "[23 22  5]\n"
     ]
    },
    {
     "data": {
      "image/png": "[encoded data removed]",
      "text/plain": [
       "<matplotlib.figure.Figure at 0x1075b5450>"
      ]
     },
     "metadata": {},
     "output_type": "display_data"
    },
    {
     "name": "stdout",
     "output_type": "stream",
     "text": [
      "[17 15 18]\n",
      "[23 22  5]\n"
     ]
    },
    {
     "data": {
      "image/png": "[encoded data removed]",
      "text/plain": [
       "<matplotlib.figure.Figure at 0x106e68550>"
      ]
     },
     "metadata": {},
     "output_type": "display_data"
    },
    {
     "name": "stdout",
     "output_type": "stream",
     "text": [
      "[13 20 17]\n",
      "[25 22  3]\n"
     ]
    },
    {
     "data": {
      "image/png": "[encoded data removed]",
      "text/plain": [
       "<matplotlib.figure.Figure at 0x1074ad710>"
      ]
     },
     "metadata": {},
     "output_type": "display_data"
    },
    {
     "name": "stdout",
     "output_type": "stream",
     "text": [
      "[ 9 21 20]\n",
      "[24 24  2]\n"
     ]
    },
    {
     "data": {
      "image/png": "[encoded data removed]",
      "text/plain": [
       "<matplotlib.figure.Figure at 0x107ab3e90>"
      ]
     },
     "metadata": {},
     "output_type": "display_data"
    },
    {
     "name": "stdout",
     "output_type": "stream",
     "text": [
      "[10 28 12]\n",
      "[30 20  0]\n"
     ]
    },
    {
     "data": {
      "image/png": "[encoded data removed]",
      "text/plain": [
       "<matplotlib.figure.Figure at 0x1070c7a10>"
      ]
     },
     "metadata": {},
     "output_type": "display_data"
    },
    {
     "name": "stdout",
     "output_type": "stream",
     "text": [
      "[10 30 10]\n",
      "[28 22  0]\n"
     ]
    },
    {
     "data": {
      "image/png": "[encoded data removed]",
      "text/plain": [
       "<matplotlib.figure.Figure at 0x10704b250>"
      ]
     },
     "metadata": {},
     "output_type": "display_data"
    },
    {
     "name": "stdout",
     "output_type": "stream",
     "text": [
      "[11 33  6]\n",
      "[31 19  0]\n"
     ]
    },
    {
     "data": {
      "image/png": "[encoded data removed]",
      "text/plain": [
       "<matplotlib.figure.Figure at 0x107043890>"
      ]
     },
     "metadata": {},
     "output_type": "display_data"
    },
    {
     "name": "stdout",
     "output_type": "stream",
     "text": [
      "[ 9 37  4]\n",
      "[26 24  0]\n"
     ]
    },
    {
     "data": {
      "image/png": "[encoded data removed]",
      "text/plain": [
       "<matplotlib.figure.Figure at 0x107342e50>"
      ]
     },
     "metadata": {},
     "output_type": "display_data"
    }
   ],
   "source": [
    "import numpy as np\n",
    "import random\n",
    "import json\n",
    "import collections\n",
    "from copy import deepcopy\n",
    "from collections import OrderedDict\n",
    "demands_strategy = [1./3., 1./2., 2./3.]\n",
    "min_accept_strategy = [1./3., 1./2., 2./3.]\n",
    "\n",
    "G = 3.0 # goods for each pair of players in one ultimatum game\n",
    "N = 100 # number of population\n",
    "R = 10 # number of rounds\n",
    "\n",
    "def assign_strategy(group, stratege_distr):\n",
    "    a = deepcopy(group)\n",
    "#     print stratege_distr\n",
    "    assert len(a) == sum(stratege_distr)  \n",
    "    strategy = {}\n",
    "    assigned_count = 0\n",
    "    \n",
    "    for stgy_id, stgy_count in enumerate(stratege_distr):\n",
    "        count = 0\n",
    "        current_ = random.sample(a, stgy_count)\n",
    "        for val in current_:\n",
    "            strategy[val] = stgy_id\n",
    "        a = list(set(a) - set(current_))\n",
    "    return strategy\n",
    "            \n",
    "demands_strategy_distribution = {}\n",
    "demands_strategy_distribution[0] = np.random.multinomial(N/2, [1/3.]*3)\n",
    "accept_strategy_distribution = {}\n",
    "accept_strategy_distribution[0] = np.random.multinomial(N/2, [1/3.]*3)\n",
    "outjson = {}\n",
    "for r in xrange(R):\n",
    "    hist_goods = {}\n",
    "    outjson['round_%d' % r] = {}\n",
    "    proposers = random.sample(range(0, N - 1), N/2)\n",
    "    acceptors = [x for x in xrange(N) if x not in proposers]\n",
    "\n",
    "    proposer_strategies = {}\n",
    "    proposer_strategy_goods = collections.defaultdict(float)\n",
    "    acceptor_strategies = {}\n",
    "    acceptor_strategy_goods = collections.defaultdict(float)\n",
    "    ## Assigning strategies\n",
    "    proposer_strategies = assign_strategy(proposers, demands_strategy_distribution[r])\n",
    "    acceptor_strategies = assign_strategy(acceptors, accept_strategy_distribution[r])\n",
    "\n",
    "    outjson['round_%d' % r]['proposers_ids'] = proposers\n",
    "    outjson['round_%d' % r]['acceptors_ids'] = acceptors\n",
    "    outjson['round_%d' % r]['propose_strategy'] = {}\n",
    "    outjson['round_%d' % r]['accept_strategy'] = {}\n",
    "    for pairid, proposer_id in enumerate(proposers):\n",
    "        acceptor_id = acceptors[pairid]\n",
    "        propose_stgy_id = proposer_strategies[proposer_id]\n",
    "        propose_stgy_value = demands_strategy[propose_stgy_id]\n",
    "        accept_stgy_id = acceptor_strategies[acceptor_id]\n",
    "        accept_stgy_value = min_accept_strategy[accept_stgy_id]\n",
    "        outjson['round_%d' % r]['propose_strategy'][proposer_id] = propose_stgy_value\n",
    "        outjson['round_%d' % r]['accept_strategy'][acceptor_id] = accept_stgy_value\n",
    "        if (1. - propose_stgy_value) >=  accept_stgy_value:\n",
    "            hist_goods[proposer_id] = propose_stgy_value * G\n",
    "            hist_goods[acceptor_id] = (1. - propose_stgy_value) * G\n",
    "            proposer_strategy_goods[propose_stgy_id] += propose_stgy_value * G\n",
    "            acceptor_strategy_goods[accept_stgy_id] += (1. - propose_stgy_value) * G\n",
    "        else:\n",
    "            hist_goods[proposer_id] = 0.\n",
    "            hist_goods[acceptor_id] = 0.\n",
    "            proposer_strategy_goods[propose_stgy_id] += 0.\n",
    "            acceptor_strategy_goods[accept_stgy_id] += 0.\n",
    "\n",
    "    ## Assign strategy distribution for next round based on their rewards from this round        \n",
    "    all_goods = sum(proposer_strategy_goods.values())\n",
    "    stgy_dist = []\n",
    "    for key in range(0, len(demands_strategy)):\n",
    "        stgy_dist.append(proposer_strategy_goods[key]/all_goods)\n",
    "    demands_strategy_distribution[r+1] = np.random.multinomial(N/2, stgy_dist)\n",
    "    print demands_strategy_distribution[r+1] \n",
    "    all_goods = sum(acceptor_strategy_goods.values())\n",
    "    stgy_dist = []\n",
    "    for key in range(0, len(min_accept_strategy)):\n",
    "        stgy_dist.append(acceptor_strategy_goods[key]/all_goods)\n",
    "    accept_strategy_distribution[r+1] = np.random.multinomial(N/2, stgy_dist)\n",
    "    \n",
    "    print accept_strategy_distribution[r+1]        \n",
    "    \n",
    "    n, bins, patches = plt.hist(hist_goods.values(), 10, facecolor='green', alpha=0.75)  \n",
    "    plt.xlabel('Goods')\n",
    "    plt.ylabel('Probability')\n",
    "    plt.grid(True)\n",
    "    plt.show()\n",
    "with open('../data/ultimatum/synthetic_data/synthetic_data_multi_rouds.json', 'wb') as writer:\n",
    "    writer.write(json.dumps(outjson))"
   ]
  },
  {
   "cell_type": "code",
   "execution_count": null,
   "metadata": {
    "collapsed": true
   },
   "outputs": [],
   "source": []
  }
 ],
 "metadata": {
  "kernelspec": {
   "display_name": "Python 2",
   "language": "python",
   "name": "python2"
  },
  "language_info": {
   "codemirror_mode": {
    "name": "ipython",
    "version": 2
   },
   "file_extension": ".py",
   "mimetype": "text/x-python",
   "name": "python",
   "nbconvert_exporter": "python",
   "pygments_lexer": "ipython2",
   "version": "2.7.10"
  }
 },
 "nbformat": 4,
 "nbformat_minor": 2
}
